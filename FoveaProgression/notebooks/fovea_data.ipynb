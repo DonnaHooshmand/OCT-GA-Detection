{
 "cells": [
  {
   "cell_type": "markdown",
   "metadata": {},
   "source": [
    "# Libraries"
   ]
  },
  {
   "cell_type": "code",
   "execution_count": 1,
   "metadata": {},
   "outputs": [],
   "source": [
    "import numpy as np\n",
    "import os\n",
    "\n",
    "import warnings\n",
    "warnings.filterwarnings('ignore')"
   ]
  },
  {
   "cell_type": "code",
   "execution_count": 2,
   "metadata": {},
   "outputs": [],
   "source": [
    "import pandas as pd\n",
    "import matplotlib.pyplot as plt\n",
    "import seaborn as sns"
   ]
  },
  {
   "cell_type": "markdown",
   "metadata": {},
   "source": [
    "# Utilities"
   ]
  },
  {
   "cell_type": "code",
   "execution_count": 3,
   "metadata": {},
   "outputs": [],
   "source": [
    "def get_scan_paths():\n",
    "    #for MAC\n",
    "    slices_path = r'/Volumes/fsmresfiles/Ophthalmology/Mirza_Images/AMD/dAMD_GA/all_slices_3'\n",
    "    slices = os.listdir(slices_path)\n",
    "\n",
    "    # For windows\n",
    "    # slices_path = r'\\\\fsmresfiles.fsm.northwestern.edu\\fsmresfiles\\Ophthalmology\\Mirza_Images\\AMD\\dAMD_GA\\all_slices_3'\n",
    "    # slices = os.listdir(all_slices_path)\n",
    "\n",
    "    scan_paths = [item for item in slices if item.endswith('.jpg')]\n",
    "    return scan_paths"
   ]
  },
  {
   "cell_type": "code",
   "execution_count": 7,
   "metadata": {},
   "outputs": [],
   "source": [
    "def create_model_df(scan_paths):\n",
    "\n",
    "    landmark_path = '/Users/shubhigupta/Documents/GitHub/OCT-GA-Detection/FoveaProgression/data/fovea_landmarks.csv'\n",
    "    data_landmarks = pd.read_csv(landmark_path)\n",
    "\n",
    "    scan_metadata_path = '/Users/shubhigupta/Documents/GitHub/OCT-GA-Detection/FoveaProgression/data/fovea_detection_data.csv'\n",
    "    data_metadata = pd.read_csv(scan_metadata_path)\n",
    "\n",
    "    filtered_data = data_metadata[data_metadata['scan_name'].isin(scan_paths)]\n",
    "    \n",
    "    filtered_data['label'] = filtered_data['status'].astype(int)\n",
    "\n",
    "    sorted_filtered_data = filtered_data.sort_values(by=['patient_id','folder_name','scan_number'])\n",
    "\n",
    "    return data_landmarks, sorted_filtered_data\n"
   ]
  },
  {
   "cell_type": "code",
   "execution_count": 16,
   "metadata": {},
   "outputs": [],
   "source": [
    "def assign_sequence_threshold(landmarks_mapping,scan_number, patient_id, folder_name):\n",
    "    # Retrieve the landmarks for the given patient and folder\n",
    "    landmarks = landmarks_mapping.get((patient_id, folder_name), None)\n",
    "    if landmarks is None:\n",
    "        return 'unknown', -1  # Handle cases where no mapping is found\n",
    "\n",
    "    if scan_number < landmarks['start'] or scan_number > landmarks['end']:\n",
    "        return 'no fovea', 0\n",
    "    elif landmarks['start'] <= scan_number <= landmarks['start_threshold']:\n",
    "        return 'progression', 1\n",
    "    elif landmarks['end_threshold'] <= scan_number <= landmarks['end']:\n",
    "        return 'progression', 1\n",
    "    else:\n",
    "        return 'deepest', 2"
   ]
  },
  {
   "cell_type": "code",
   "execution_count": 26,
   "metadata": {},
   "outputs": [],
   "source": [
    "def landmark_labels(fovea_landmarks,fovea_detection_data):\n",
    "\n",
    "    # Initialize a dictionary to hold the landmarks for each patient and folder\n",
    "    landmarks_mapping = {}\n",
    "    for index, row in fovea_landmarks.iterrows():\n",
    "        key = (row['patient_id'], row['folder_name'])\n",
    "        landmarks_mapping[key] = {\n",
    "            'start': row['start'],\n",
    "            'deepest': row['deepest'],\n",
    "            'end': row['end'],\n",
    "            'start_threshold': row['deepest'] - (row['deepest'] - row['start'])/4,\n",
    "            'end_threshold': row['deepest'] + (row['end'] - row['deepest'])/4\n",
    "        }\n",
    "\n",
    "    # Apply the function to each row\n",
    "    results = fovea_detection_data.apply(lambda row: assign_sequence_threshold(landmarks_mapping,row['scan_number'], row['patient_id'], row['folder_name']), axis=1)\n",
    "    fovea_detection_data['sequence'], fovea_detection_data['sequence_label'] = zip(*results)\n",
    "    \n",
    "    \n",
    "    return fovea_detection_data"
   ]
  },
  {
   "cell_type": "markdown",
   "metadata": {},
   "source": [
    "# Pre-processing"
   ]
  },
  {
   "cell_type": "code",
   "execution_count": 29,
   "metadata": {},
   "outputs": [
    {
     "name": "stdout",
     "output_type": "stream",
     "text": [
      "<class 'pandas.core.frame.DataFrame'>\n",
      "RangeIndex: 41 entries, 0 to 40\n",
      "Data columns (total 8 columns):\n",
      " #   Column         Non-Null Count  Dtype \n",
      "---  ------         --------------  ----- \n",
      " 0   patient_id     41 non-null     int64 \n",
      " 1   folder_name    41 non-null     object\n",
      " 2   start          41 non-null     int64 \n",
      " 3   deepest        41 non-null     int64 \n",
      " 4   end            41 non-null     int64 \n",
      " 5   start_slice    41 non-null     object\n",
      " 6   deepest_slice  41 non-null     object\n",
      " 7   end_slice      41 non-null     object\n",
      "dtypes: int64(4), object(4)\n",
      "memory usage: 2.7+ KB\n",
      "<class 'pandas.core.frame.DataFrame'>\n",
      "Index: 21500 entries, 10202 to 12453\n",
      "Data columns (total 7 columns):\n",
      " #   Column       Non-Null Count  Dtype \n",
      "---  ------       --------------  ----- \n",
      " 0   scan_name    21500 non-null  object\n",
      " 1   scan_number  21500 non-null  int64 \n",
      " 2   folder_name  21500 non-null  object\n",
      " 3   patient_id   21500 non-null  int64 \n",
      " 4   eye_side     21500 non-null  object\n",
      " 5   status       21500 non-null  bool  \n",
      " 6   label        21500 non-null  int64 \n",
      "dtypes: bool(1), int64(3), object(3)\n",
      "memory usage: 1.2+ MB\n"
     ]
    }
   ],
   "source": [
    "scan_paths = get_scan_paths()\n",
    "df_landmarks, df_metadata = create_model_df(scan_paths)\n",
    "df_landmarks.info()\n",
    "df_metadata.info()"
   ]
  },
  {
   "cell_type": "code",
   "execution_count": 30,
   "metadata": {},
   "outputs": [
    {
     "data": {
      "text/html": [
       "<div>\n",
       "<style scoped>\n",
       "    .dataframe tbody tr th:only-of-type {\n",
       "        vertical-align: middle;\n",
       "    }\n",
       "\n",
       "    .dataframe tbody tr th {\n",
       "        vertical-align: top;\n",
       "    }\n",
       "\n",
       "    .dataframe thead th {\n",
       "        text-align: right;\n",
       "    }\n",
       "</style>\n",
       "<table border=\"1\" class=\"dataframe\">\n",
       "  <thead>\n",
       "    <tr style=\"text-align: right;\">\n",
       "      <th></th>\n",
       "      <th>patient_id</th>\n",
       "      <th>folder_name</th>\n",
       "      <th>start</th>\n",
       "      <th>deepest</th>\n",
       "      <th>end</th>\n",
       "      <th>start_slice</th>\n",
       "      <th>deepest_slice</th>\n",
       "      <th>end_slice</th>\n",
       "    </tr>\n",
       "  </thead>\n",
       "  <tbody>\n",
       "    <tr>\n",
       "      <th>0</th>\n",
       "      <td>47</td>\n",
       "      <td>047_OS_1_GA_6x6_SSOCT_1</td>\n",
       "      <td>198</td>\n",
       "      <td>253</td>\n",
       "      <td>355</td>\n",
       "      <td>047_OS_1_GA_6x6_SSOCT_1_198.jpg</td>\n",
       "      <td>047_OS_1_GA_6x6_SSOCT_1_253.jpg</td>\n",
       "      <td>047_OS_1_GA_6x6_SSOCT_1_355.jpg</td>\n",
       "    </tr>\n",
       "    <tr>\n",
       "      <th>1</th>\n",
       "      <td>47</td>\n",
       "      <td>047_OS_2_GA_6x6_SSOCT_1</td>\n",
       "      <td>194</td>\n",
       "      <td>258</td>\n",
       "      <td>368</td>\n",
       "      <td>047_OS_2_GA_6x6_SSOCT_1_194.jpg</td>\n",
       "      <td>047_OS_2_GA_6x6_SSOCT_1_258.jpg</td>\n",
       "      <td>047_OS_2_GA_6x6_SSOCT_1_368.jpg</td>\n",
       "    </tr>\n",
       "    <tr>\n",
       "      <th>2</th>\n",
       "      <td>64</td>\n",
       "      <td>064_OD_1_GA_6x6_SSOCT_1</td>\n",
       "      <td>209</td>\n",
       "      <td>287</td>\n",
       "      <td>369</td>\n",
       "      <td>064_OD_1_GA_6x6_SSOCT_1_209.jpg</td>\n",
       "      <td>064_OD_1_GA_6x6_SSOCT_1_287.jpg</td>\n",
       "      <td>064_OD_1_GA_6x6_SSOCT_1_369.jpg</td>\n",
       "    </tr>\n",
       "    <tr>\n",
       "      <th>3</th>\n",
       "      <td>64</td>\n",
       "      <td>064_OD_1_GA_6x6_SSOCT_2</td>\n",
       "      <td>215</td>\n",
       "      <td>289</td>\n",
       "      <td>368</td>\n",
       "      <td>064_OD_1_GA_6x6_SSOCT_2_215.jpg</td>\n",
       "      <td>064_OD_1_GA_6x6_SSOCT_2_289.jpg</td>\n",
       "      <td>064_OD_1_GA_6x6_SSOCT_2_368.jpg</td>\n",
       "    </tr>\n",
       "    <tr>\n",
       "      <th>4</th>\n",
       "      <td>64</td>\n",
       "      <td>064_OD_10_GA_6x6_SSOCT_1</td>\n",
       "      <td>155</td>\n",
       "      <td>258</td>\n",
       "      <td>348</td>\n",
       "      <td>064_OD_10_GA_6x6_SSOCT_1_155.jpg</td>\n",
       "      <td>064_OD_10_GA_6x6_SSOCT_1_258.jpg</td>\n",
       "      <td>064_OD_10_GA_6x6_SSOCT_1_348.jpg</td>\n",
       "    </tr>\n",
       "  </tbody>\n",
       "</table>\n",
       "</div>"
      ],
      "text/plain": [
       "   patient_id               folder_name  start  deepest  end  \\\n",
       "0          47   047_OS_1_GA_6x6_SSOCT_1    198      253  355   \n",
       "1          47   047_OS_2_GA_6x6_SSOCT_1    194      258  368   \n",
       "2          64   064_OD_1_GA_6x6_SSOCT_1    209      287  369   \n",
       "3          64   064_OD_1_GA_6x6_SSOCT_2    215      289  368   \n",
       "4          64  064_OD_10_GA_6x6_SSOCT_1    155      258  348   \n",
       "\n",
       "                        start_slice                     deepest_slice  \\\n",
       "0   047_OS_1_GA_6x6_SSOCT_1_198.jpg   047_OS_1_GA_6x6_SSOCT_1_253.jpg   \n",
       "1   047_OS_2_GA_6x6_SSOCT_1_194.jpg   047_OS_2_GA_6x6_SSOCT_1_258.jpg   \n",
       "2   064_OD_1_GA_6x6_SSOCT_1_209.jpg   064_OD_1_GA_6x6_SSOCT_1_287.jpg   \n",
       "3   064_OD_1_GA_6x6_SSOCT_2_215.jpg   064_OD_1_GA_6x6_SSOCT_2_289.jpg   \n",
       "4  064_OD_10_GA_6x6_SSOCT_1_155.jpg  064_OD_10_GA_6x6_SSOCT_1_258.jpg   \n",
       "\n",
       "                          end_slice  \n",
       "0   047_OS_1_GA_6x6_SSOCT_1_355.jpg  \n",
       "1   047_OS_2_GA_6x6_SSOCT_1_368.jpg  \n",
       "2   064_OD_1_GA_6x6_SSOCT_1_369.jpg  \n",
       "3   064_OD_1_GA_6x6_SSOCT_2_368.jpg  \n",
       "4  064_OD_10_GA_6x6_SSOCT_1_348.jpg  "
      ]
     },
     "execution_count": 30,
     "metadata": {},
     "output_type": "execute_result"
    }
   ],
   "source": [
    "df_landmarks.head()"
   ]
  },
  {
   "cell_type": "code",
   "execution_count": 31,
   "metadata": {},
   "outputs": [
    {
     "data": {
      "text/html": [
       "<div>\n",
       "<style scoped>\n",
       "    .dataframe tbody tr th:only-of-type {\n",
       "        vertical-align: middle;\n",
       "    }\n",
       "\n",
       "    .dataframe tbody tr th {\n",
       "        vertical-align: top;\n",
       "    }\n",
       "\n",
       "    .dataframe thead th {\n",
       "        text-align: right;\n",
       "    }\n",
       "</style>\n",
       "<table border=\"1\" class=\"dataframe\">\n",
       "  <thead>\n",
       "    <tr style=\"text-align: right;\">\n",
       "      <th></th>\n",
       "      <th>scan_name</th>\n",
       "      <th>scan_number</th>\n",
       "      <th>folder_name</th>\n",
       "      <th>patient_id</th>\n",
       "      <th>eye_side</th>\n",
       "      <th>status</th>\n",
       "      <th>label</th>\n",
       "    </tr>\n",
       "  </thead>\n",
       "  <tbody>\n",
       "    <tr>\n",
       "      <th>10202</th>\n",
       "      <td>047_OS_1_GA_6x6_SSOCT_1_1.jpg</td>\n",
       "      <td>1</td>\n",
       "      <td>047_OS_1_GA_6x6_SSOCT_1</td>\n",
       "      <td>47</td>\n",
       "      <td>left</td>\n",
       "      <td>False</td>\n",
       "      <td>0</td>\n",
       "    </tr>\n",
       "    <tr>\n",
       "      <th>10439</th>\n",
       "      <td>047_OS_1_GA_6x6_SSOCT_1_2.jpg</td>\n",
       "      <td>2</td>\n",
       "      <td>047_OS_1_GA_6x6_SSOCT_1</td>\n",
       "      <td>47</td>\n",
       "      <td>left</td>\n",
       "      <td>False</td>\n",
       "      <td>0</td>\n",
       "    </tr>\n",
       "    <tr>\n",
       "      <th>10021</th>\n",
       "      <td>047_OS_1_GA_6x6_SSOCT_1_3.jpg</td>\n",
       "      <td>3</td>\n",
       "      <td>047_OS_1_GA_6x6_SSOCT_1</td>\n",
       "      <td>47</td>\n",
       "      <td>left</td>\n",
       "      <td>False</td>\n",
       "      <td>0</td>\n",
       "    </tr>\n",
       "    <tr>\n",
       "      <th>10301</th>\n",
       "      <td>047_OS_1_GA_6x6_SSOCT_1_4.jpg</td>\n",
       "      <td>4</td>\n",
       "      <td>047_OS_1_GA_6x6_SSOCT_1</td>\n",
       "      <td>47</td>\n",
       "      <td>left</td>\n",
       "      <td>False</td>\n",
       "      <td>0</td>\n",
       "    </tr>\n",
       "    <tr>\n",
       "      <th>10164</th>\n",
       "      <td>047_OS_1_GA_6x6_SSOCT_1_5.jpg</td>\n",
       "      <td>5</td>\n",
       "      <td>047_OS_1_GA_6x6_SSOCT_1</td>\n",
       "      <td>47</td>\n",
       "      <td>left</td>\n",
       "      <td>False</td>\n",
       "      <td>0</td>\n",
       "    </tr>\n",
       "  </tbody>\n",
       "</table>\n",
       "</div>"
      ],
      "text/plain": [
       "                           scan_name  scan_number              folder_name  \\\n",
       "10202  047_OS_1_GA_6x6_SSOCT_1_1.jpg            1  047_OS_1_GA_6x6_SSOCT_1   \n",
       "10439  047_OS_1_GA_6x6_SSOCT_1_2.jpg            2  047_OS_1_GA_6x6_SSOCT_1   \n",
       "10021  047_OS_1_GA_6x6_SSOCT_1_3.jpg            3  047_OS_1_GA_6x6_SSOCT_1   \n",
       "10301  047_OS_1_GA_6x6_SSOCT_1_4.jpg            4  047_OS_1_GA_6x6_SSOCT_1   \n",
       "10164  047_OS_1_GA_6x6_SSOCT_1_5.jpg            5  047_OS_1_GA_6x6_SSOCT_1   \n",
       "\n",
       "       patient_id eye_side  status  label  \n",
       "10202          47     left   False      0  \n",
       "10439          47     left   False      0  \n",
       "10021          47     left   False      0  \n",
       "10301          47     left   False      0  \n",
       "10164          47     left   False      0  "
      ]
     },
     "execution_count": 31,
     "metadata": {},
     "output_type": "execute_result"
    }
   ],
   "source": [
    "df_metadata.head()"
   ]
  },
  {
   "cell_type": "code",
   "execution_count": 32,
   "metadata": {},
   "outputs": [],
   "source": [
    "df_model = landmark_labels(df_landmarks, df_metadata)"
   ]
  },
  {
   "cell_type": "code",
   "execution_count": 33,
   "metadata": {},
   "outputs": [
    {
     "name": "stdout",
     "output_type": "stream",
     "text": [
      "<class 'pandas.core.frame.DataFrame'>\n",
      "Index: 21500 entries, 10202 to 12453\n",
      "Data columns (total 9 columns):\n",
      " #   Column          Non-Null Count  Dtype \n",
      "---  ------          --------------  ----- \n",
      " 0   scan_name       21500 non-null  object\n",
      " 1   scan_number     21500 non-null  int64 \n",
      " 2   folder_name     21500 non-null  object\n",
      " 3   patient_id      21500 non-null  int64 \n",
      " 4   eye_side        21500 non-null  object\n",
      " 5   status          21500 non-null  bool  \n",
      " 6   label           21500 non-null  int64 \n",
      " 7   sequence        21500 non-null  object\n",
      " 8   sequence_label  21500 non-null  int64 \n",
      "dtypes: bool(1), int64(4), object(4)\n",
      "memory usage: 1.5+ MB\n"
     ]
    }
   ],
   "source": [
    "df_model.info()"
   ]
  },
  {
   "cell_type": "code",
   "execution_count": 34,
   "metadata": {},
   "outputs": [],
   "source": [
    "scan_img_path = r'/Volumes/fsmresfiles/Ophthalmology/Mirza_Images/AMD/dAMD_GA/all_slices_3'\n",
    "df_model['image_path'] = df_model.apply(lambda row: os.path.join(scan_img_path, row['scan_name']), axis=1)"
   ]
  },
  {
   "cell_type": "code",
   "execution_count": 35,
   "metadata": {},
   "outputs": [
    {
     "data": {
      "text/html": [
       "<div>\n",
       "<style scoped>\n",
       "    .dataframe tbody tr th:only-of-type {\n",
       "        vertical-align: middle;\n",
       "    }\n",
       "\n",
       "    .dataframe tbody tr th {\n",
       "        vertical-align: top;\n",
       "    }\n",
       "\n",
       "    .dataframe thead th {\n",
       "        text-align: right;\n",
       "    }\n",
       "</style>\n",
       "<table border=\"1\" class=\"dataframe\">\n",
       "  <thead>\n",
       "    <tr style=\"text-align: right;\">\n",
       "      <th></th>\n",
       "      <th>scan_name</th>\n",
       "      <th>scan_number</th>\n",
       "      <th>folder_name</th>\n",
       "      <th>patient_id</th>\n",
       "      <th>eye_side</th>\n",
       "      <th>status</th>\n",
       "      <th>label</th>\n",
       "      <th>sequence</th>\n",
       "      <th>sequence_label</th>\n",
       "      <th>image_path</th>\n",
       "    </tr>\n",
       "  </thead>\n",
       "  <tbody>\n",
       "    <tr>\n",
       "      <th>10202</th>\n",
       "      <td>047_OS_1_GA_6x6_SSOCT_1_1.jpg</td>\n",
       "      <td>1</td>\n",
       "      <td>047_OS_1_GA_6x6_SSOCT_1</td>\n",
       "      <td>47</td>\n",
       "      <td>left</td>\n",
       "      <td>False</td>\n",
       "      <td>0</td>\n",
       "      <td>no fovea</td>\n",
       "      <td>0</td>\n",
       "      <td>/Volumes/fsmresfiles/Ophthalmology/Mirza_Image...</td>\n",
       "    </tr>\n",
       "    <tr>\n",
       "      <th>10439</th>\n",
       "      <td>047_OS_1_GA_6x6_SSOCT_1_2.jpg</td>\n",
       "      <td>2</td>\n",
       "      <td>047_OS_1_GA_6x6_SSOCT_1</td>\n",
       "      <td>47</td>\n",
       "      <td>left</td>\n",
       "      <td>False</td>\n",
       "      <td>0</td>\n",
       "      <td>no fovea</td>\n",
       "      <td>0</td>\n",
       "      <td>/Volumes/fsmresfiles/Ophthalmology/Mirza_Image...</td>\n",
       "    </tr>\n",
       "    <tr>\n",
       "      <th>10021</th>\n",
       "      <td>047_OS_1_GA_6x6_SSOCT_1_3.jpg</td>\n",
       "      <td>3</td>\n",
       "      <td>047_OS_1_GA_6x6_SSOCT_1</td>\n",
       "      <td>47</td>\n",
       "      <td>left</td>\n",
       "      <td>False</td>\n",
       "      <td>0</td>\n",
       "      <td>no fovea</td>\n",
       "      <td>0</td>\n",
       "      <td>/Volumes/fsmresfiles/Ophthalmology/Mirza_Image...</td>\n",
       "    </tr>\n",
       "    <tr>\n",
       "      <th>10301</th>\n",
       "      <td>047_OS_1_GA_6x6_SSOCT_1_4.jpg</td>\n",
       "      <td>4</td>\n",
       "      <td>047_OS_1_GA_6x6_SSOCT_1</td>\n",
       "      <td>47</td>\n",
       "      <td>left</td>\n",
       "      <td>False</td>\n",
       "      <td>0</td>\n",
       "      <td>no fovea</td>\n",
       "      <td>0</td>\n",
       "      <td>/Volumes/fsmresfiles/Ophthalmology/Mirza_Image...</td>\n",
       "    </tr>\n",
       "    <tr>\n",
       "      <th>10164</th>\n",
       "      <td>047_OS_1_GA_6x6_SSOCT_1_5.jpg</td>\n",
       "      <td>5</td>\n",
       "      <td>047_OS_1_GA_6x6_SSOCT_1</td>\n",
       "      <td>47</td>\n",
       "      <td>left</td>\n",
       "      <td>False</td>\n",
       "      <td>0</td>\n",
       "      <td>no fovea</td>\n",
       "      <td>0</td>\n",
       "      <td>/Volumes/fsmresfiles/Ophthalmology/Mirza_Image...</td>\n",
       "    </tr>\n",
       "  </tbody>\n",
       "</table>\n",
       "</div>"
      ],
      "text/plain": [
       "                           scan_name  scan_number              folder_name  \\\n",
       "10202  047_OS_1_GA_6x6_SSOCT_1_1.jpg            1  047_OS_1_GA_6x6_SSOCT_1   \n",
       "10439  047_OS_1_GA_6x6_SSOCT_1_2.jpg            2  047_OS_1_GA_6x6_SSOCT_1   \n",
       "10021  047_OS_1_GA_6x6_SSOCT_1_3.jpg            3  047_OS_1_GA_6x6_SSOCT_1   \n",
       "10301  047_OS_1_GA_6x6_SSOCT_1_4.jpg            4  047_OS_1_GA_6x6_SSOCT_1   \n",
       "10164  047_OS_1_GA_6x6_SSOCT_1_5.jpg            5  047_OS_1_GA_6x6_SSOCT_1   \n",
       "\n",
       "       patient_id eye_side  status  label  sequence  sequence_label  \\\n",
       "10202          47     left   False      0  no fovea               0   \n",
       "10439          47     left   False      0  no fovea               0   \n",
       "10021          47     left   False      0  no fovea               0   \n",
       "10301          47     left   False      0  no fovea               0   \n",
       "10164          47     left   False      0  no fovea               0   \n",
       "\n",
       "                                              image_path  \n",
       "10202  /Volumes/fsmresfiles/Ophthalmology/Mirza_Image...  \n",
       "10439  /Volumes/fsmresfiles/Ophthalmology/Mirza_Image...  \n",
       "10021  /Volumes/fsmresfiles/Ophthalmology/Mirza_Image...  \n",
       "10301  /Volumes/fsmresfiles/Ophthalmology/Mirza_Image...  \n",
       "10164  /Volumes/fsmresfiles/Ophthalmology/Mirza_Image...  "
      ]
     },
     "execution_count": 35,
     "metadata": {},
     "output_type": "execute_result"
    }
   ],
   "source": [
    "df_model.head()"
   ]
  },
  {
   "cell_type": "code",
   "execution_count": 36,
   "metadata": {},
   "outputs": [],
   "source": [
    "df_model.to_csv('../data/fovea_progression_dataset.csv', index=False)"
   ]
  },
  {
   "cell_type": "code",
   "execution_count": 37,
   "metadata": {},
   "outputs": [
    {
     "name": "stdout",
     "output_type": "stream",
     "text": [
      "['190_OS_1_GA_6x6_SSOCT_1', '345_OS_1_GA_6x6_SSOCT_1']\n"
     ]
    }
   ],
   "source": [
    "unknown_status_df = df_model[df_model['sequence'] == 'unknown']\n",
    "unique_patient_ids = unknown_status_df['folder_name'].unique()\n",
    "\n",
    "print(unique_patient_ids.tolist())"
   ]
  },
  {
   "cell_type": "code",
   "execution_count": 38,
   "metadata": {},
   "outputs": [],
   "source": [
    "df_model_ex_unknown = df_model[df_model['sequence']!= 'unknown']\n",
    "\n",
    "# Write the filtered DataFrame to a CSV file\n",
    "df_model_ex_unknown.to_csv('../data/fovea_progression_dataset_excluding_unknowns.csv', index=False)"
   ]
  },
  {
   "cell_type": "markdown",
   "metadata": {},
   "source": [
    "# Generating Datasets\n"
   ]
  },
  {
   "cell_type": "markdown",
   "metadata": {},
   "source": [
    "## Creating Sample dataset"
   ]
  },
  {
   "cell_type": "code",
   "execution_count": 77,
   "metadata": {},
   "outputs": [],
   "source": [
    "df_sample_train = df_model_ex_unknown[df_model_ex_unknown['folder_name'] == '047_OS_1_GA_6x6_SSOCT_1']\n",
    "df_sample_train.to_csv('../data/sample/train.csv')\n",
    "\n",
    "df_sample_test = df_model_ex_unknown[df_model_ex_unknown['folder_name'] == '064_OD_1_GA_6x6_SSOCT_2']\n",
    "df_sample_test.to_csv('../data/sample/test.csv')\n",
    "\n",
    "df_sample_val = df_model_ex_unknown[df_model_ex_unknown['folder_name'] == '321_OD_1_GA_6x6_SSOCT_1']\n",
    "df_sample_val.to_csv('../data/sample/val.csv')"
   ]
  },
  {
   "cell_type": "markdown",
   "metadata": {},
   "source": [
    "## Creating Model dataset"
   ]
  },
  {
   "cell_type": "code",
   "execution_count": 70,
   "metadata": {},
   "outputs": [
    {
     "name": "stdout",
     "output_type": "stream",
     "text": [
      "32\n",
      "6\n",
      "3\n"
     ]
    }
   ],
   "source": [
    "shuffled_folders = df_landmarks.sample(frac=1, random_state=42)['folder_name'].tolist()\n",
    "# Determine split indices\n",
    "train_size = int(0.8 * len(shuffled_folders))\n",
    "val_size = int(0.15 * len(shuffled_folders))\n",
    "test_size = len(shuffled_folders) - train_size - val_size\n",
    "\n",
    "print(train_size)\n",
    "print(val_size)\n",
    "print(test_size)\n"
   ]
  },
  {
   "cell_type": "code",
   "execution_count": 71,
   "metadata": {},
   "outputs": [],
   "source": [
    "# Split the folder names into train, test, val\n",
    "train_folders = shuffled_folders[:train_size]\n",
    "val_folders = shuffled_folders[train_size:train_size + val_size]\n",
    "test_folders = shuffled_folders[train_size + val_size:]\n",
    "\n",
    "# Filter the main DataFrame based on the splits\n",
    "train_scans = df_model_ex_unknown[df_model_ex_unknown['folder_name'].isin(train_folders)]\n",
    "val_scans = df_model_ex_unknown[df_model_ex_unknown['folder_name'].isin(val_folders)]\n",
    "test_scans = df_model_ex_unknown[df_model_ex_unknown['folder_name'].isin(test_folders)]\n"
   ]
  },
  {
   "cell_type": "code",
   "execution_count": 72,
   "metadata": {},
   "outputs": [
    {
     "name": "stdout",
     "output_type": "stream",
     "text": [
      "Train set:\n",
      "<class 'pandas.core.frame.DataFrame'>\n",
      "Index: 16000 entries, 10202 to 12453\n",
      "Data columns (total 10 columns):\n",
      " #   Column          Non-Null Count  Dtype \n",
      "---  ------          --------------  ----- \n",
      " 0   scan_name       16000 non-null  object\n",
      " 1   scan_number     16000 non-null  int64 \n",
      " 2   folder_name     16000 non-null  object\n",
      " 3   patient_id      16000 non-null  int64 \n",
      " 4   eye_side        16000 non-null  object\n",
      " 5   status          16000 non-null  bool  \n",
      " 6   label           16000 non-null  int64 \n",
      " 7   sequence        16000 non-null  object\n",
      " 8   sequence_label  16000 non-null  int64 \n",
      " 9   image_path      16000 non-null  object\n",
      "dtypes: bool(1), int64(4), object(5)\n",
      "memory usage: 1.2+ MB\n",
      "None\n"
     ]
    }
   ],
   "source": [
    "print(\"Train set:\")\n",
    "print(train_scans.info())"
   ]
  },
  {
   "cell_type": "code",
   "execution_count": 73,
   "metadata": {},
   "outputs": [
    {
     "name": "stdout",
     "output_type": "stream",
     "text": [
      "\n",
      "Validation set:\n",
      "<class 'pandas.core.frame.DataFrame'>\n",
      "Index: 3000 entries, 13270 to 8680\n",
      "Data columns (total 10 columns):\n",
      " #   Column          Non-Null Count  Dtype \n",
      "---  ------          --------------  ----- \n",
      " 0   scan_name       3000 non-null   object\n",
      " 1   scan_number     3000 non-null   int64 \n",
      " 2   folder_name     3000 non-null   object\n",
      " 3   patient_id      3000 non-null   int64 \n",
      " 4   eye_side        3000 non-null   object\n",
      " 5   status          3000 non-null   bool  \n",
      " 6   label           3000 non-null   int64 \n",
      " 7   sequence        3000 non-null   object\n",
      " 8   sequence_label  3000 non-null   int64 \n",
      " 9   image_path      3000 non-null   object\n",
      "dtypes: bool(1), int64(4), object(5)\n",
      "memory usage: 237.3+ KB\n",
      "None\n"
     ]
    }
   ],
   "source": [
    "print(\"\\nValidation set:\")\n",
    "print(val_scans.info())"
   ]
  },
  {
   "cell_type": "code",
   "execution_count": 74,
   "metadata": {},
   "outputs": [
    {
     "name": "stdout",
     "output_type": "stream",
     "text": [
      "\n",
      "Test set:\n",
      "<class 'pandas.core.frame.DataFrame'>\n",
      "Index: 1500 entries, 1331 to 14580\n",
      "Data columns (total 10 columns):\n",
      " #   Column          Non-Null Count  Dtype \n",
      "---  ------          --------------  ----- \n",
      " 0   scan_name       1500 non-null   object\n",
      " 1   scan_number     1500 non-null   int64 \n",
      " 2   folder_name     1500 non-null   object\n",
      " 3   patient_id      1500 non-null   int64 \n",
      " 4   eye_side        1500 non-null   object\n",
      " 5   status          1500 non-null   bool  \n",
      " 6   label           1500 non-null   int64 \n",
      " 7   sequence        1500 non-null   object\n",
      " 8   sequence_label  1500 non-null   int64 \n",
      " 9   image_path      1500 non-null   object\n",
      "dtypes: bool(1), int64(4), object(5)\n",
      "memory usage: 118.7+ KB\n",
      "None\n"
     ]
    }
   ],
   "source": [
    "print(\"\\nTest set:\")\n",
    "print(test_scans.info())"
   ]
  },
  {
   "cell_type": "code",
   "execution_count": 75,
   "metadata": {},
   "outputs": [
    {
     "name": "stdout",
     "output_type": "stream",
     "text": [
      "Overlap between train and val sets: set()\n",
      "Overlap between train and test sets: set()\n",
      "Overlap between val and test sets: set()\n",
      "No overlaps found between the datasets. The split is valid.\n"
     ]
    }
   ],
   "source": [
    "train_folders_set = set(train_scans['folder_name'])\n",
    "val_folders_set = set(val_scans['folder_name'])\n",
    "test_folders_set = set(test_scans['folder_name'])\n",
    "\n",
    "# Check for overlaps\n",
    "train_val_overlap = train_folders_set.intersection(val_folders_set)\n",
    "train_test_overlap = train_folders_set.intersection(test_folders_set)\n",
    "val_test_overlap = val_folders_set.intersection(test_folders_set)\n",
    "\n",
    "# Print results\n",
    "print(\"Overlap between train and val sets:\", train_val_overlap)\n",
    "print(\"Overlap between train and test sets:\", train_test_overlap)\n",
    "print(\"Overlap between val and test sets:\", val_test_overlap)\n",
    "\n",
    "# Verify if there are any overlaps\n",
    "if not train_val_overlap and not train_test_overlap and not val_test_overlap:\n",
    "    print(\"No overlaps found between the datasets. The split is valid.\")\n",
    "else:\n",
    "    print(\"Overlaps found! Please check the dataset splits.\")"
   ]
  },
  {
   "cell_type": "code",
   "execution_count": 76,
   "metadata": {},
   "outputs": [],
   "source": [
    "train_scans.to_csv('../data/model/train.csv')\n",
    "val_scans.to_csv('../data/model/val.csv')\n",
    "test_scans.to_csv('../data/model/test.csv')"
   ]
  }
 ],
 "metadata": {
  "kernelspec": {
   "display_name": ".venv",
   "language": "python",
   "name": "python3"
  },
  "language_info": {
   "codemirror_mode": {
    "name": "ipython",
    "version": 3
   },
   "file_extension": ".py",
   "mimetype": "text/x-python",
   "name": "python",
   "nbconvert_exporter": "python",
   "pygments_lexer": "ipython3",
   "version": "3.12.2"
  }
 },
 "nbformat": 4,
 "nbformat_minor": 2
}
