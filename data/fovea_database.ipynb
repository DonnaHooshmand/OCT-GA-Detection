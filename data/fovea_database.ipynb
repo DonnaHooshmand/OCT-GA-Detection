{
 "cells": [
  {
   "cell_type": "code",
   "execution_count": 2,
   "metadata": {},
   "outputs": [],
   "source": [
    "import numpy as np\n",
    "import pandas as pd\n",
    "import os \n",
    "import io"
   ]
  },
  {
   "cell_type": "code",
   "execution_count": null,
   "metadata": {},
   "outputs": [],
   "source": [
    "#need to get the other folder name?? \n",
    "GA_folder = 'R:\\Ophthalmology\\Mirza_Images\\AMD\\dAMD_GA' \n",
    "\n",
    "\n",
    "# Get folder names\n",
    "subfolder_names = os.listdir(GA_folder)\n",
    "subfolders = []\n",
    "subfolder_paths = []\n",
    "for subfolder_name in subfolder_names:\n",
    "    if os.path.isdir(os.path.join(GA_folder, subfolder_name)):\n",
    "        subfolders.append(subfolder_name)\n",
    "        subfolder_paths.append(os.path.join(GA_folder, subfolder_name))\n",
    "\n",
    "# print(subfolders)"
   ]
  },
  {
   "cell_type": "code",
   "execution_count": null,
   "metadata": {},
   "outputs": [],
   "source": [
    "# Get Patient_ID\n",
    "patient_id_list = []\n",
    "\n",
    "# Right eye or left eye?\n",
    "patient_eye = []\n",
    "\n",
    "for folder_name in subfolders:\n",
    "    patient_id_list.append(folder_name[0:3])\n",
    "    \n",
    "    if folder_name[4:6] == 'OS':\n",
    "        patient_eye.append('left')\n",
    "    else:\n",
    "        patient_eye.append('right')\n",
    "    \n",
    "# print(patient_id_list)\n",
    "print(patient_eye)"
   ]
  },
  {
   "cell_type": "code",
   "execution_count": 5,
   "metadata": {},
   "outputs": [
    {
     "ename": "NameError",
     "evalue": "name 'subfolders' is not defined",
     "output_type": "error",
     "traceback": [
      "\u001b[1;31m---------------------------------------------------------------------------\u001b[0m",
      "\u001b[1;31mNameError\u001b[0m                                 Traceback (most recent call last)",
      "Cell \u001b[1;32mIn[5], line 2\u001b[0m\n\u001b[0;32m      1\u001b[0m \u001b[38;5;66;03m# Creating a CSV for the data\u001b[39;00m\n\u001b[1;32m----> 2\u001b[0m data \u001b[38;5;241m=\u001b[39m pd\u001b[38;5;241m.\u001b[39mDataFrame(\u001b[38;5;28mlist\u001b[39m(\u001b[38;5;28mzip\u001b[39m(\u001b[43msubfolders\u001b[49m, patient_id_list, patient_eye)), columns\u001b[38;5;241m=\u001b[39m[\u001b[38;5;124m'\u001b[39m\u001b[38;5;124mfolder\u001b[39m\u001b[38;5;124m'\u001b[39m, \u001b[38;5;124m'\u001b[39m\u001b[38;5;124mpatient_id\u001b[39m\u001b[38;5;124m'\u001b[39m, \u001b[38;5;124m'\u001b[39m\u001b[38;5;124meye_side\u001b[39m\u001b[38;5;124m'\u001b[39m])\n",
      "\u001b[1;31mNameError\u001b[0m: name 'subfolders' is not defined"
     ]
    }
   ],
   "source": [
    "# Creating a CSV for the data\n",
    "data = pd.DataFrame(list(zip(subfolders, patient_id_list, patient_eye)), columns=['folder', 'patient_id', 'eye_side'])"
   ]
  },
  {
   "cell_type": "code",
   "execution_count": null,
   "metadata": {},
   "outputs": [],
   "source": [
    "data.head()"
   ]
  },
  {
   "cell_type": "code",
   "execution_count": 2,
   "metadata": {},
   "outputs": [
    {
     "data": {
      "text/html": [
       "<div>\n",
       "<style scoped>\n",
       "    .dataframe tbody tr th:only-of-type {\n",
       "        vertical-align: middle;\n",
       "    }\n",
       "\n",
       "    .dataframe tbody tr th {\n",
       "        vertical-align: top;\n",
       "    }\n",
       "\n",
       "    .dataframe thead th {\n",
       "        text-align: right;\n",
       "    }\n",
       "</style>\n",
       "<table border=\"1\" class=\"dataframe\">\n",
       "  <thead>\n",
       "    <tr style=\"text-align: right;\">\n",
       "      <th></th>\n",
       "      <th>scan_name</th>\n",
       "      <th>scan_number</th>\n",
       "      <th>folder_name</th>\n",
       "      <th>patient_id</th>\n",
       "      <th>eye_side</th>\n",
       "      <th>status</th>\n",
       "      <th>distance</th>\n",
       "    </tr>\n",
       "  </thead>\n",
       "  <tbody>\n",
       "  </tbody>\n",
       "</table>\n",
       "</div>"
      ],
      "text/plain": [
       "Empty DataFrame\n",
       "Columns: [scan_name, scan_number, folder_name, patient_id, eye_side, status, distance]\n",
       "Index: []"
      ]
     },
     "execution_count": 2,
     "metadata": {},
     "output_type": "execute_result"
    }
   ],
   "source": [
    "per_scan_data = pd.DataFrame(columns = ['scan_name', 'scan_number', 'folder_name', 'patient_id', 'eye_side','status', 'distance'])\n",
    "per_scan_data"
   ]
  },
  {
   "cell_type": "code",
   "execution_count": 10,
   "metadata": {},
   "outputs": [
    {
     "ename": "NameError",
     "evalue": "name 'GA_folder' is not defined",
     "output_type": "error",
     "traceback": [
      "\u001b[1;31m---------------------------------------------------------------------------\u001b[0m",
      "\u001b[1;31mNameError\u001b[0m                                 Traceback (most recent call last)",
      "Cell \u001b[1;32mIn[10], line 4\u001b[0m\n\u001b[0;32m      1\u001b[0m \u001b[38;5;66;03m## Every picture\u001b[39;00m\n\u001b[0;32m      2\u001b[0m \n\u001b[0;32m      3\u001b[0m \u001b[38;5;66;03m# go to each subfolder and make a row for each picture.\u001b[39;00m\n\u001b[1;32m----> 4\u001b[0m subfolder_names2 \u001b[38;5;241m=\u001b[39m os\u001b[38;5;241m.\u001b[39mlistdir(\u001b[43mGA_folder\u001b[49m)\n\u001b[0;32m      5\u001b[0m subfolders2 \u001b[38;5;241m=\u001b[39m []\n\u001b[0;32m      6\u001b[0m subfolder_paths2 \u001b[38;5;241m=\u001b[39m []\n",
      "\u001b[1;31mNameError\u001b[0m: name 'GA_folder' is not defined"
     ]
    }
   ],
   "source": [
    "## Every picture\n",
    "\n",
    "# go to each subfolder and make a row for each picture.\n",
    "subfolder_names2 = os.listdir(GA_folder)\n",
    "subfolders2 = []\n",
    "subfolder_paths2 = []\n",
    "picture_names=[]\n",
    "for subfolder_name in subfolder_names2:\n",
    "    if os.path.isdir(os.path.join(GA_folder, subfolder_name+\"/500_slices\")):\n",
    "        scan_name_list = os.path.join(GA_folder, subfolder_name+\"/500_slices\")\n",
    "        picture_names.append(os.listdir(scan_name_list))"
   ]
  },
  {
   "cell_type": "code",
   "execution_count": null,
   "metadata": {},
   "outputs": [],
   "source": [
    "print(len(picture_names))\n",
    "print(len(picture_names[0]))"
   ]
  },
  {
   "cell_type": "markdown",
   "metadata": {},
   "source": [
    "Code logic starts here"
   ]
  },
  {
   "cell_type": "code",
   "execution_count": 34,
   "metadata": {},
   "outputs": [],
   "source": [
    "#reading in the data and slicing the names to match the folder_name ouputs\n",
    "test = pd.read_csv(\"Fovea_landmarks.csv\")\n",
    "\n",
    "\n",
    "#distance to the deepest part\n",
    "test['deepest_distance'] = None\n",
    "\n",
    "#the max from scan to both edges of the fovea \n",
    "test['distance'] = None"
   ]
  },
  {
   "cell_type": "code",
   "execution_count": 35,
   "metadata": {},
   "outputs": [],
   "source": [
    "folder_name = '047_OS_1_GA_6x6_SSOCT_1' \n",
    "\n",
    "#df = test.loc[test['scan_name'] == folder_name]"
   ]
  },
  {
   "cell_type": "code",
   "execution_count": null,
   "metadata": {},
   "outputs": [],
   "source": [
    "test.loc[test['Image'] == folder_name]['deepest_distance'] = 100 "
   ]
  },
  {
   "cell_type": "code",
   "execution_count": 51,
   "metadata": {},
   "outputs": [],
   "source": [
    "#assume tha you have the scan values already\n",
    "\n",
    "scan_name = '064_OD_1_GA_6x6_SSOCT_1'\n",
    "scan_number = 307 \n",
    "\n",
    "compare = test.loc[test['Image'] == scan_name]\n",
    "\n",
    "#empty boolean list to determine if fovea is in the scan\n",
    "data_per = []\n",
    "\n",
    "#distance from the deepest\n",
    "distance_per = []\n",
    "deepest_distance = []\n",
    "\n",
    "#fovea detection logic\n",
    "if (scan_number < int(compare['Start'])) or (scan_number > int(compare['End'])):\n",
    "    data_per.append(False)\n",
    "    distance_per.append(None)\n",
    "    deepest_distance.append(None)\n",
    "else:\n",
    "    data_per.append(True)   \n",
    "    distance_per.append(min(abs(int(compare['Start'])- scan_number), abs(int(compare['End'])- scan_number)))\n",
    "    deepest_distance.append(abs(int(compare['Deepest'])- scan_number))\n",
    "\n",
    "\n",
    "\n",
    "\n",
    "\n",
    "rows =  test[test['Image'] == folder_name].index\n",
    "rows=rows.tolist()\n",
    "test['deepest_distance'][rows[0]] = deepest_distance[0]\n",
    "test['distance'][rows[0]] = distance_per[0]\n",
    "\n",
    "\n",
    "\n",
    "\n"
   ]
  },
  {
   "cell_type": "code",
   "execution_count": null,
   "metadata": {},
   "outputs": [],
   "source": [
    "for file_content in picture_names:\n",
    "    for picture in file_content:\n",
    "        data_per = []\n",
    "        \n",
    "        #know \n",
    "        splat = picture.split(\"_\")\n",
    "        \n",
    "        ## get scan_name\n",
    "        data_per.append(picture)\n",
    "        \n",
    "        ## get scan number \n",
    "        scan_number = int(splat[7].split(\".\")[0])\n",
    "        data_per.append(scan_number)\n",
    "\n",
    "        ## get folder name\n",
    "        splat2 = splat[0:7]\n",
    "        folder_name = \"_\".join(splat2)\n",
    "        data_per.append(folder_name)\n",
    "        \n",
    "        ## get patient_id\n",
    "        data_per.append(splat[0])\n",
    "        \n",
    "        ## get left or right eye\n",
    "        if splat[1] == 'OS':\n",
    "            data_per.append('left')\n",
    "        else:\n",
    "            data_per.append('right')\n",
    "        \n",
    "        ## status\n",
    "        # data_per.append('None')\n",
    "\n",
    "        distance_per = []\n",
    "\n",
    "        try:\n",
    "            per_scan_data.loc[len(per_scan_data)-1]=data_per\n",
    "            per_scan_data.loc[len(per_scan_data)]=distance_per\n",
    "        except: \n",
    "            for value in len(data_per):\n",
    "                print(data_per[value],distance_per[value])\n",
    "            \n",
    "   "
   ]
  },
  {
   "cell_type": "code",
   "execution_count": null,
   "metadata": {},
   "outputs": [],
   "source": [
    "per_scan_data"
   ]
  },
  {
   "cell_type": "code",
   "execution_count": null,
   "metadata": {},
   "outputs": [],
   "source": [
    "print('total scan count: ', len(per_scan_data))\n",
    "print('positive: ', len(per_scan_data[per_scan_data['status']==True]))\n",
    "print('negatives: ', len(per_scan_data[per_scan_data['status']==False]))"
   ]
  },
  {
   "cell_type": "code",
   "execution_count": null,
   "metadata": {},
   "outputs": [],
   "source": [
    "per_scan_data.to_csv(\"per_scan_data.csv\", sep=',', index=False, encoding='utf-8')"
   ]
  }
 ],
 "metadata": {
  "kernelspec": {
   "display_name": "Python 3",
   "language": "python",
   "name": "python3"
  },
  "language_info": {
   "codemirror_mode": {
    "name": "ipython",
    "version": 3
   },
   "file_extension": ".py",
   "mimetype": "text/x-python",
   "name": "python",
   "nbconvert_exporter": "python",
   "pygments_lexer": "ipython3",
   "version": "3.11.7"
  }
 },
 "nbformat": 4,
 "nbformat_minor": 2
}
