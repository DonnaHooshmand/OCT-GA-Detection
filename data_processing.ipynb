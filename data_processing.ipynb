{
 "cells": [
  {
   "cell_type": "markdown",
   "metadata": {},
   "source": [
    "# Utilities"
   ]
  },
  {
   "cell_type": "markdown",
   "metadata": {},
   "source": [
    "## Libraries"
   ]
  },
  {
   "cell_type": "code",
   "execution_count": 2,
   "metadata": {},
   "outputs": [],
   "source": [
    "#standad libraries\n",
    "import numpy as np\n",
    "import pandas as pd\n",
    "import os"
   ]
  },
  {
   "cell_type": "code",
   "execution_count": 5,
   "metadata": {},
   "outputs": [],
   "source": [
    "#data libraries\n",
    "from make_dataset import DataGen\n",
    "from sklearn.model_selection import train_test_split"
   ]
  },
  {
   "cell_type": "markdown",
   "metadata": {},
   "source": [
    "## Functions"
   ]
  },
  {
   "cell_type": "code",
   "execution_count": 6,
   "metadata": {},
   "outputs": [],
   "source": [
    "# find_label_patient_id - to get label for each scan\n",
    "def find_label_patient_id(img_name, img_labels, scan_column):\n",
    "    row = img_labels[img_labels[scan_column] == img_name]\n",
    "    return row['status'].item()"
   ]
  },
  {
   "cell_type": "code",
   "execution_count": null,
   "metadata": {},
   "outputs": [],
   "source": [
    "# dummy image generator for testing functionality\n",
    "import pandas as pd\n",
    "import os\n",
    "\n",
    "img_labels = pd.read_csv('FoveaDetection/fovea_detection_data.csv')\n",
    "dummy_image_path = 'dummy.jpg'\n",
    "\n",
    "os.makedirs('dummy_data', exist_ok=True)\n",
    "with open(dummy_image_path, 'rb') as dummy_file:\n",
    "    dummy_content = dummy_file.read()\n",
    "\n",
    "for img_name in img_labels['scan_name']:\n",
    "    new_image_path = os.path.join('dummy_data', f'{img_name}')\n",
    "    # Create a copy of the dummy image with the new name\n",
    "    with open(new_image_path, 'wb') as new_file:\n",
    "        new_file.write(dummy_content)"
   ]
  },
  {
   "cell_type": "markdown",
   "metadata": {},
   "source": [
    "# Data"
   ]
  },
  {
   "cell_type": "markdown",
   "metadata": {},
   "source": [
    "## Metadata"
   ]
  },
  {
   "cell_type": "code",
   "execution_count": 7,
   "metadata": {},
   "outputs": [
    {
     "name": "stdout",
     "output_type": "stream",
     "text": [
      "<class 'pandas.core.frame.DataFrame'>\n",
      "RangeIndex: 21500 entries, 0 to 21499\n",
      "Data columns (total 6 columns):\n",
      " #   Column       Non-Null Count  Dtype \n",
      "---  ------       --------------  ----- \n",
      " 0   scan_name    21500 non-null  object\n",
      " 1   scan_number  21500 non-null  int64 \n",
      " 2   folder_name  21500 non-null  object\n",
      " 3   patient_id   21500 non-null  int64 \n",
      " 4   eye_side     21500 non-null  object\n",
      " 5   status       21500 non-null  bool  \n",
      "dtypes: bool(1), int64(2), object(3)\n",
      "memory usage: 861.0+ KB\n"
     ]
    },
    {
     "data": {
      "text/html": [
       "<div>\n",
       "<style scoped>\n",
       "    .dataframe tbody tr th:only-of-type {\n",
       "        vertical-align: middle;\n",
       "    }\n",
       "\n",
       "    .dataframe tbody tr th {\n",
       "        vertical-align: top;\n",
       "    }\n",
       "\n",
       "    .dataframe thead th {\n",
       "        text-align: right;\n",
       "    }\n",
       "</style>\n",
       "<table border=\"1\" class=\"dataframe\">\n",
       "  <thead>\n",
       "    <tr style=\"text-align: right;\">\n",
       "      <th></th>\n",
       "      <th>scan_name</th>\n",
       "      <th>scan_number</th>\n",
       "      <th>folder_name</th>\n",
       "      <th>patient_id</th>\n",
       "      <th>eye_side</th>\n",
       "      <th>status</th>\n",
       "    </tr>\n",
       "  </thead>\n",
       "  <tbody>\n",
       "    <tr>\n",
       "      <th>0</th>\n",
       "      <td>064_OS_6_GA_6x6_SSOCT_1_168.jpg</td>\n",
       "      <td>168</td>\n",
       "      <td>064_OS_6_GA_6x6_SSOCT_1</td>\n",
       "      <td>64</td>\n",
       "      <td>left</td>\n",
       "      <td>False</td>\n",
       "    </tr>\n",
       "    <tr>\n",
       "      <th>1</th>\n",
       "      <td>064_OS_6_GA_6x6_SSOCT_1_202.jpg</td>\n",
       "      <td>202</td>\n",
       "      <td>064_OS_6_GA_6x6_SSOCT_1</td>\n",
       "      <td>64</td>\n",
       "      <td>left</td>\n",
       "      <td>True</td>\n",
       "    </tr>\n",
       "    <tr>\n",
       "      <th>2</th>\n",
       "      <td>064_OS_6_GA_6x6_SSOCT_1_397.jpg</td>\n",
       "      <td>397</td>\n",
       "      <td>064_OS_6_GA_6x6_SSOCT_1</td>\n",
       "      <td>64</td>\n",
       "      <td>left</td>\n",
       "      <td>False</td>\n",
       "    </tr>\n",
       "    <tr>\n",
       "      <th>3</th>\n",
       "      <td>064_OS_6_GA_6x6_SSOCT_1_204.jpg</td>\n",
       "      <td>204</td>\n",
       "      <td>064_OS_6_GA_6x6_SSOCT_1</td>\n",
       "      <td>64</td>\n",
       "      <td>left</td>\n",
       "      <td>True</td>\n",
       "    </tr>\n",
       "    <tr>\n",
       "      <th>4</th>\n",
       "      <td>064_OS_6_GA_6x6_SSOCT_1_44.jpg</td>\n",
       "      <td>44</td>\n",
       "      <td>064_OS_6_GA_6x6_SSOCT_1</td>\n",
       "      <td>64</td>\n",
       "      <td>left</td>\n",
       "      <td>False</td>\n",
       "    </tr>\n",
       "  </tbody>\n",
       "</table>\n",
       "</div>"
      ],
      "text/plain": [
       "                         scan_name  scan_number              folder_name  \\\n",
       "0  064_OS_6_GA_6x6_SSOCT_1_168.jpg          168  064_OS_6_GA_6x6_SSOCT_1   \n",
       "1  064_OS_6_GA_6x6_SSOCT_1_202.jpg          202  064_OS_6_GA_6x6_SSOCT_1   \n",
       "2  064_OS_6_GA_6x6_SSOCT_1_397.jpg          397  064_OS_6_GA_6x6_SSOCT_1   \n",
       "3  064_OS_6_GA_6x6_SSOCT_1_204.jpg          204  064_OS_6_GA_6x6_SSOCT_1   \n",
       "4   064_OS_6_GA_6x6_SSOCT_1_44.jpg           44  064_OS_6_GA_6x6_SSOCT_1   \n",
       "\n",
       "   patient_id eye_side  status  \n",
       "0          64     left   False  \n",
       "1          64     left    True  \n",
       "2          64     left   False  \n",
       "3          64     left    True  \n",
       "4          64     left   False  "
      ]
     },
     "execution_count": 7,
     "metadata": {},
     "output_type": "execute_result"
    }
   ],
   "source": [
    "#scan information\n",
    "data_scan = pd.read_csv('FoveaDetection/fovea_detection_data.csv')\n",
    "data_scan.info()\n",
    "data_scan.head()"
   ]
  },
  {
   "cell_type": "markdown",
   "metadata": {},
   "source": [
    "## Scans"
   ]
  },
  {
   "cell_type": "code",
   "execution_count": 12,
   "metadata": {},
   "outputs": [
    {
     "data": {
      "text/plain": [
       "['064_OS_4_GA_6x6_SSOCT_1_136.jpg',\n",
       " '064_OS_5_GA_6x6_SSOCT_1_421.jpg',\n",
       " '326_OD_3_GA_6x6_SSOCT_1_421.jpg',\n",
       " '064_OS_6_GA_6x6_SSOCT_1_236.jpg',\n",
       " '321_OS_1_GA_6x6_SSOCT_1_134.jpg']"
      ]
     },
     "execution_count": 12,
     "metadata": {},
     "output_type": "execute_result"
    }
   ],
   "source": [
    "#images\n",
    "\n",
    "#for MAC\n",
    "# slices_path = r'/Volumes/fsmresfiles/Ophthalmology/Mirza_Images/AMD/dAMD_GA/all_slices_3'\n",
    "# slices = os.listdir(slices_path)\n",
    "\n",
    "# For windows\n",
    "# slices_path = r'\\\\fsmresfiles.fsm.northwestern.edu\\fsmresfiles\\Ophthalmology\\Mirza_Images\\AMD\\dAMD_GA\\all_slices_3'\n",
    "# slices = os.listdir(all_slices_path)\n",
    "\n",
    "#for dummy functional testing\n",
    "slices_path = r'dummy_data'\n",
    "slices = os.listdir(slices_path)\n",
    "\n",
    "scan_paths = [item for item in slices if item.endswith('.jpg')]\n",
    "scan_paths[0:5]"
   ]
  },
  {
   "cell_type": "markdown",
   "metadata": {},
   "source": [
    "## Model DataFrame"
   ]
  },
  {
   "cell_type": "code",
   "execution_count": 26,
   "metadata": {},
   "outputs": [],
   "source": [
    "filtered_data = data_scan[data_scan['scan_name'].isin(scan_paths)]\n",
    "filtered_data['label'] = filtered_data['status'].astype(int)\n",
    "\n",
    "sorted_filtered_data = filtered_data.sort_values(by=['scan_number', 'patient_id'])\n"
   ]
  },
  {
   "cell_type": "code",
   "execution_count": 27,
   "metadata": {},
   "outputs": [
    {
     "data": {
      "text/html": [
       "<div>\n",
       "<style scoped>\n",
       "    .dataframe tbody tr th:only-of-type {\n",
       "        vertical-align: middle;\n",
       "    }\n",
       "\n",
       "    .dataframe tbody tr th {\n",
       "        vertical-align: top;\n",
       "    }\n",
       "\n",
       "    .dataframe thead th {\n",
       "        text-align: right;\n",
       "    }\n",
       "</style>\n",
       "<table border=\"1\" class=\"dataframe\">\n",
       "  <thead>\n",
       "    <tr style=\"text-align: right;\">\n",
       "      <th></th>\n",
       "      <th>patient_id</th>\n",
       "      <th>eye_side</th>\n",
       "      <th>scan_number</th>\n",
       "      <th>scan_name</th>\n",
       "      <th>status</th>\n",
       "      <th>label</th>\n",
       "    </tr>\n",
       "  </thead>\n",
       "  <tbody>\n",
       "    <tr>\n",
       "      <th>10202</th>\n",
       "      <td>47</td>\n",
       "      <td>left</td>\n",
       "      <td>1</td>\n",
       "      <td>047_OS_1_GA_6x6_SSOCT_1_1.jpg</td>\n",
       "      <td>False</td>\n",
       "      <td>0</td>\n",
       "    </tr>\n",
       "    <tr>\n",
       "      <th>11860</th>\n",
       "      <td>47</td>\n",
       "      <td>left</td>\n",
       "      <td>1</td>\n",
       "      <td>047_OS_2_GA_6x6_SSOCT_1_1.jpg</td>\n",
       "      <td>False</td>\n",
       "      <td>0</td>\n",
       "    </tr>\n",
       "    <tr>\n",
       "      <th>130</th>\n",
       "      <td>64</td>\n",
       "      <td>left</td>\n",
       "      <td>1</td>\n",
       "      <td>064_OS_6_GA_6x6_SSOCT_1_1.jpg</td>\n",
       "      <td>False</td>\n",
       "      <td>0</td>\n",
       "    </tr>\n",
       "    <tr>\n",
       "      <th>996</th>\n",
       "      <td>64</td>\n",
       "      <td>right</td>\n",
       "      <td>1</td>\n",
       "      <td>064_OD_9_GA_6x6_SSOCT_1_1.jpg</td>\n",
       "      <td>False</td>\n",
       "      <td>0</td>\n",
       "    </tr>\n",
       "    <tr>\n",
       "      <th>1331</th>\n",
       "      <td>64</td>\n",
       "      <td>right</td>\n",
       "      <td>1</td>\n",
       "      <td>064_OD_7_GA_6x6_SSOCT_3_1.jpg</td>\n",
       "      <td>False</td>\n",
       "      <td>0</td>\n",
       "    </tr>\n",
       "  </tbody>\n",
       "</table>\n",
       "</div>"
      ],
      "text/plain": [
       "       patient_id eye_side  scan_number                      scan_name  \\\n",
       "10202          47     left            1  047_OS_1_GA_6x6_SSOCT_1_1.jpg   \n",
       "11860          47     left            1  047_OS_2_GA_6x6_SSOCT_1_1.jpg   \n",
       "130            64     left            1  064_OS_6_GA_6x6_SSOCT_1_1.jpg   \n",
       "996            64    right            1  064_OD_9_GA_6x6_SSOCT_1_1.jpg   \n",
       "1331           64    right            1  064_OD_7_GA_6x6_SSOCT_3_1.jpg   \n",
       "\n",
       "       status  label  \n",
       "10202   False      0  \n",
       "11860   False      0  \n",
       "130     False      0  \n",
       "996     False      0  \n",
       "1331    False      0  "
      ]
     },
     "execution_count": 27,
     "metadata": {},
     "output_type": "execute_result"
    }
   ],
   "source": [
    "df = filtered_data[['patient_id', 'eye_side', 'scan_number', 'scan_name', 'status', 'label']]\n",
    "df.head()"
   ]
  }
 ],
 "metadata": {
  "kernelspec": {
   "display_name": "Python 3",
   "language": "python",
   "name": "python3"
  },
  "language_info": {
   "codemirror_mode": {
    "name": "ipython",
    "version": 3
   },
   "file_extension": ".py",
   "mimetype": "text/x-python",
   "name": "python",
   "nbconvert_exporter": "python",
   "pygments_lexer": "ipython3",
   "version": "3.12.2"
  }
 },
 "nbformat": 4,
 "nbformat_minor": 2
}
